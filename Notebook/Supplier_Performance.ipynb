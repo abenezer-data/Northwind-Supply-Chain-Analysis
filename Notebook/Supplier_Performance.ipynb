{
 "cells": [
  {
   "cell_type": "code",
   "execution_count": null,
   "id": "50969352-0af2-4bf9-8904-67efa5a92b0f",
   "metadata": {},
   "outputs": [],
   "source": [
    "# Supplier Reliability: % of Late Shipments\n",
    "\n",
    "   # Query to calculate % of late shipments per supplier\n",
    "query = \"\"\"\n",
    "SELECT s.company_name AS supplier,\n",
    "       ROUND(100.0 * SUM(CASE WHEN o.shipped_date > o.required_date THEN 1 ELSE 0 END)::numeric / COUNT(*), 2) AS pct_late\n",
    "FROM suppliers s\n",
    "JOIN products p ON s.supplier_id = p.supplier_id\n",
    "JOIN order_details od ON p.product_id = od.product_id\n",
    "JOIN orders o ON od.order_id = o.order_id\n",
    "WHERE o.shipped_date IS NOT NULL AND o.required_date IS NOT NULL\n",
    "GROUP BY s.company_name\n",
    "ORDER BY pct_late DESC;\n",
    "\"\"\"\n",
    "\n",
    "df = pd.read_sql(query, engine)\n",
    "df = df.sort_values('pct_late', ascending=True)\n",
    "\n",
    "# Plot horizontal bar chart\n",
    "fig = px.bar(df, x=\"pct_late\", y=\"supplier\", orientation=\"h\",\n",
    "             labels={\"pct_late\": \"% Late Shipments\", \"supplier\": \"Supplier\"},\n",
    "             title=\"Supplier Reliability: % of Late Shipments\")\n",
    "fig.update_layout(xaxis_tickformat=\".1f\", xaxis_range=[0, max(df[\"pct_late\"].max(), 10)])\n",
    "fig.show()"
   ]
  },
  {
   "cell_type": "code",
   "execution_count": null,
   "id": "26176c5c-5450-4f8d-a0cd-7d06ace1412b",
   "metadata": {},
   "outputs": [],
   "source": [
    "# Lead Time per Supplier\n",
    "\n",
    "  # Query to get Lead Time\n",
    "query = \"\"\"\n",
    "SELECT \n",
    "    s.company_name AS supplier_name,\n",
    "    o.order_id,\n",
    "    o.order_date,\n",
    "    o.shipped_date,\n",
    "    (o.shipped_date - o.order_date)::int AS lead_time_days\n",
    "FROM orders o\n",
    "JOIN order_details od ON o.order_id = od.order_id\n",
    "JOIN products p ON od.product_id = p.product_id\n",
    "JOIN suppliers s ON p.supplier_id = s.supplier_id\n",
    "WHERE o.shipped_date IS NOT NULL AND o.order_date IS NOT NULL\n",
    "\"\"\"\n",
    "df = pd.read_sql_query(query, engine)\n",
    "df = df[df['lead_time_days'] >= 0]  # Remove negative or invalid lead times\n",
    "\n",
    "# Aggregate average lead time per supplier\n",
    "avg_lead_time = df.groupby('supplier_name', as_index=False)['lead_time_days'].mean()\n",
    "avg_lead_time = avg_lead_time.sort_values('lead_time_days', ascending=False)\n",
    "\n",
    "# Plot using Plotly\n",
    "fig = px.bar(\n",
    "    avg_lead_time,x='supplier_name', y='lead_time_days',\n",
    "    title='Average Lead Time by Supplier (Days)',\n",
    "    labels={'supplier_name': 'Supplier', 'lead_time_days': 'Average Lead Time (days)'},\n",
    "    color='lead_time_days', color_continuous_scale='Blues'\n",
    ")\n",
    "fig.update_layout(xaxis_tickangle=-45)\n",
    "fig.show()\n"
   ]
  }
 ],
 "metadata": {
  "kernelspec": {
   "display_name": "Python 3 (ipykernel)",
   "language": "python",
   "name": "python3"
  },
  "language_info": {
   "codemirror_mode": {
    "name": "ipython",
    "version": 3
   },
   "file_extension": ".py",
   "mimetype": "text/x-python",
   "name": "python",
   "nbconvert_exporter": "python",
   "pygments_lexer": "ipython3",
   "version": "3.10.11"
  }
 },
 "nbformat": 4,
 "nbformat_minor": 5
}
