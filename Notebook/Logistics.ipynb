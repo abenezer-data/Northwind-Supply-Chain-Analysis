{
 "cells": [
  {
   "cell_type": "code",
   "execution_count": null,
   "id": "a769fe42-7a65-43f4-a47a-196ccc64c8f1",
   "metadata": {},
   "outputs": [],
   "source": [
    "# Late vs On-Time Deliveries by Shipper\n",
    "\n",
    "  # Load the query\n",
    "query = \"\"\"\n",
    "SELECT \n",
    "    s.company_name AS shipper,\n",
    "    CASE \n",
    "        WHEN o.shipped_date > o.required_date THEN 'Late'\n",
    "        ELSE 'On-Time'\n",
    "    END AS delivery_status,\n",
    "    COUNT(*) AS delivery_count\n",
    "FROM orders o\n",
    "JOIN shippers s ON o.ship_via = s.shipper_id\n",
    "WHERE o.shipped_date IS NOT NULL AND o.required_date IS NOT NULL\n",
    "GROUP BY s.company_name, delivery_status;\n",
    "\"\"\"\n",
    "df = pd.read_sql(query, engine)\n",
    "\n",
    "# Calculate percentage per shipper\n",
    "df_total = df.groupby(\"shipper\")[\"delivery_count\"].sum().reset_index(name=\"total\")\n",
    "df = df.merge(df_total, on=\"shipper\")\n",
    "df[\"percentage\"] = round((df[\"delivery_count\"] / df[\"total\"]) * 100, 2)\n",
    "\n",
    "# Plot with red for Late and blue for On-Time\n",
    "fig = px.bar(\n",
    "    df,\n",
    "    x=\"shipper\", y=\"percentage\",\n",
    "    color=\"delivery_status\",  barmode=\"stack\", text_auto=True,\n",
    "    title=\"Late vs On-Time Deliveries by Shipper (Percentage)\",\n",
    "    labels={\"percentage\": \"Delivery %\", \"shipper\": \"Shipper\"},\n",
    "    color_discrete_map={\"Late\": \"red\", \"On-Time\": \"blue\"}\n",
    ")\n",
    "\n",
    "fig.update_layout(template=\"plotly_white\", yaxis_ticksuffix=\"%\")\n",
    "fig.show()\n"
   ]
  }
 ],
 "metadata": {
  "kernelspec": {
   "display_name": "Python 3 (ipykernel)",
   "language": "python",
   "name": "python3"
  },
  "language_info": {
   "codemirror_mode": {
    "name": "ipython",
    "version": 3
   },
   "file_extension": ".py",
   "mimetype": "text/x-python",
   "name": "python",
   "nbconvert_exporter": "python",
   "pygments_lexer": "ipython3",
   "version": "3.10.11"
  }
 },
 "nbformat": 4,
 "nbformat_minor": 5
}
