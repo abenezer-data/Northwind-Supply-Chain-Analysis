{
 "cells": [
  {
   "cell_type": "code",
   "execution_count": null,
   "id": "30b49300-cea7-4490-8bfb-f463bb27f75d",
   "metadata": {},
   "outputs": [],
   "source": [
    "# Top 5 Countries by Total Sales \n",
    "\n",
    "  # SQL query: Total sales per country\n",
    "query = \"\"\"\n",
    "SELECT c.country,\n",
    "       ROUND(SUM(od.unit_price::numeric * od.quantity::numeric * (1 - od.discount::numeric)), 2) AS total_sales\n",
    "FROM customers c\n",
    "JOIN orders o ON c.customer_id = o.customer_id\n",
    "JOIN order_details od ON o.order_id = od.order_id\n",
    "GROUP BY c.country\n",
    "\"\"\"\n",
    "\n",
    "# Load and prepare data\n",
    "df = pd.read_sql(query, engine)\n",
    "df = df.sort_values(\"total_sales\", ascending=False).head(5)\n",
    "\n",
    "# Add percent contribution for tooltips\n",
    "df[\"percent\"] = 100 * df[\"total_sales\"] / df[\"total_sales\"].sum()\n",
    "\n",
    "# Plot pie chart\n",
    "fig = px.pie(df,\n",
    "             names=\"country\",\n",
    "             values=\"total_sales\",\n",
    "             title=\"Top 5 Countries by Total Sales (Proportional Contribution)\",\n",
    "             hole=0.4)\n",
    "\n",
    "# Add % inside each slice\n",
    "fig.update_traces(textinfo=\"label+percent\", hovertemplate=\"%{label}: %{percent:.1%} of top 5 sales<br>Total: $%{value:,.2f}\")\n",
    "\n",
    "fig.show()"
   ]
  },
  {
   "cell_type": "code",
   "execution_count": null,
   "id": "e12fdb64-40f8-4a3d-91c5-3c2f8744741d",
   "metadata": {},
   "outputs": [],
   "source": [
    "# Product Category Performance (Total Sales)\n",
    "\n",
    "  # Query: Total revenue per category\n",
    "query = \"\"\"\n",
    "SELECT cat.category_name,\n",
    "       ROUND(SUM(od.unit_price::numeric * od.quantity::numeric * (1 - od.discount::numeric)), 2) AS total_sales\n",
    "FROM categories cat\n",
    "JOIN products p ON cat.category_id = p.category_id\n",
    "JOIN order_details od ON p.product_id = od.product_id\n",
    "GROUP BY cat.category_name\n",
    "ORDER BY total_sales DESC;\n",
    "\"\"\"\n",
    "\n",
    "# Load and plot\n",
    "df = pd.read_sql(query, engine)\n",
    "fig = px.bar(df, \n",
    "             x='total_sales', \n",
    "             y='category_name', \n",
    "             orientation='h',\n",
    "             title='Product Category Performance (Total Sales)',\n",
    "             labels={'category_name': 'Category', 'total_sales': 'Total Sales ($)'},\n",
    "             text='total_sales')\n",
    "fig.update_layout(yaxis={'categoryorder':'total ascending'})\n",
    "fig.show()\n"
   ]
  }
 ],
 "metadata": {
  "kernelspec": {
   "display_name": "Python 3 (ipykernel)",
   "language": "python",
   "name": "python3"
  },
  "language_info": {
   "codemirror_mode": {
    "name": "ipython",
    "version": 3
   },
   "file_extension": ".py",
   "mimetype": "text/x-python",
   "name": "python",
   "nbconvert_exporter": "python",
   "pygments_lexer": "ipython3",
   "version": "3.10.11"
  }
 },
 "nbformat": 4,
 "nbformat_minor": 5
}
