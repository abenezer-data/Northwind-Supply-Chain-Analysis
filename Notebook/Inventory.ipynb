{
 "cells": [
  {
   "cell_type": "code",
   "execution_count": null,
   "id": "cc5321dd-7890-4609-80b1-707a35f78063",
   "metadata": {},
   "outputs": [],
   "source": [
    "# Inventory Health\n",
    "# Query inventory data\n",
    "query = \"\"\"\n",
    "SELECT \n",
    "    product_id, product_name,\n",
    "    units_in_stock, units_on_order,\n",
    "    reorder_level, discontinued\n",
    "FROM products;\n",
    "\"\"\"\n",
    "df = pd.read_sql(query, engine)\n",
    "\n",
    "# Classify inventory health\n",
    "def classify_inventory(row):\n",
    "    if row['discontinued'] == 1:\n",
    "        return 'Discontinued'\n",
    "    elif row['reorder_level'] == 0:\n",
    "        return 'No Reorder Level'\n",
    "    elif (row['units_in_stock'] + row['units_on_order']) < row['reorder_level']:\n",
    "        return 'Understock'\n",
    "    elif row['units_in_stock'] > 2 * row['reorder_level']:\n",
    "        return 'Overstock'\n",
    "    else:\n",
    "        return 'Normal'\n",
    "\n",
    "df['Inventory Status'] = df.apply(classify_inventory, axis=1)\n",
    "\n",
    "# Visualize with Plotly\n",
    "fig = px.bar(\n",
    "    df.sort_values(by=\"units_in_stock\", ascending=False),\n",
    "    x='product_name', y='units_in_stock', color='Inventory Status',\n",
    "    title=' Inventory Health Overview ', labels={'units_in_stock': 'Units in Stock'},\n",
    "    color_discrete_map={\n",
    "        'Understock': 'red',\n",
    "        'Overstock': 'orange',\n",
    "        'Normal': 'green',\n",
    "        'No Reorder Level': 'gray',\n",
    "        'Discontinued': 'black'\n",
    "    }\n",
    ")\n",
    "fig.update_layout(\n",
    "    xaxis_title=None,\n",
    "    yaxis_title='Units in Stock',\n",
    "    xaxis_tickangle=45,\n",
    "    height=680, width=1200 \n",
    ")\n",
    "\n",
    "fig.show()\n"
   ]
  }
 ],
 "metadata": {
  "kernelspec": {
   "display_name": "Python 3 (ipykernel)",
   "language": "python",
   "name": "python3"
  },
  "language_info": {
   "codemirror_mode": {
    "name": "ipython",
    "version": 3
   },
   "file_extension": ".py",
   "mimetype": "text/x-python",
   "name": "python",
   "nbconvert_exporter": "python",
   "pygments_lexer": "ipython3",
   "version": "3.10.11"
  }
 },
 "nbformat": 4,
 "nbformat_minor": 5
}
